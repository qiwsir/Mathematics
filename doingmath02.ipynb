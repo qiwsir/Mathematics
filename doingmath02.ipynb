{
 "cells": [
  {
   "cell_type": "code",
   "execution_count": 1,
   "metadata": {},
   "outputs": [
    {
     "data": {
      "text/plain": [
       "1.0"
      ]
     },
     "execution_count": 1,
     "metadata": {},
     "output_type": "execute_result"
    }
   ],
   "source": [
    "import math\n",
    "math.log2(2)"
   ]
  },
  {
   "cell_type": "markdown",
   "metadata": {},
   "source": [
    "# 用Python玩转数学\n",
    "\n",
    "$\\sin\\theta=\\frac{y}{r}$"
   ]
  },
  {
   "cell_type": "code",
   "execution_count": 2,
   "metadata": {},
   "outputs": [
    {
     "name": "stdout",
     "output_type": "stream",
     "text": [
      "01-01.md          README.md         b01.md            fibonacci.py\r\n",
      "01.md             SUMMARY.md        basic.md          fibonacii.md\r\n",
      "02.md             \u001b[34m_book\u001b[m\u001b[m             book.json         multiplication.md\r\n",
      "03.md             about.md          doingmath-00.md   \u001b[34mnode_modules\u001b[m\u001b[m\r\n",
      "04.md             aboute.md         doingmath-01.md   package-lock.json\r\n",
      "05.md             append.md         doingmath-02.md   regression.ipynb\r\n",
      "06.md             b01-01.md         doingmath.md      regression.md\r\n",
      "07-01.md          b01-02.md         doingmath02.ipynb\r\n",
      "07.md             b01-03.md         estimator.md\r\n"
     ]
    }
   ],
   "source": [
    "!ls"
   ]
  },
  {
   "cell_type": "code",
   "execution_count": null,
   "metadata": {},
   "outputs": [],
   "source": []
  }
 ],
 "metadata": {
  "kernelspec": {
   "display_name": "Python 3",
   "language": "python",
   "name": "python3"
  },
  "language_info": {
   "codemirror_mode": {
    "name": "ipython",
    "version": 3
   },
   "file_extension": ".py",
   "mimetype": "text/x-python",
   "name": "python",
   "nbconvert_exporter": "python",
   "pygments_lexer": "ipython3",
   "version": "3.8.2"
  }
 },
 "nbformat": 4,
 "nbformat_minor": 4
}
